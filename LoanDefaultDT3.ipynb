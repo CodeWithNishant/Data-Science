{
 "cells": [
  {
   "cell_type": "markdown",
   "id": "612f2ac5-df22-46e9-9009-1f36bbb42c9e",
   "metadata": {},
   "source": [
    "# Data Preprocessing"
   ]
  },
  {
   "cell_type": "markdown",
   "id": "cdb2364b-234f-48f8-84c5-14cb53d8be03",
   "metadata": {},
   "source": [
    "## Importing Libraries"
   ]
  },
  {
   "cell_type": "code",
   "execution_count": 1,
   "id": "d0ef0c3e-8f34-4ebe-8873-4ec088c586d3",
   "metadata": {},
   "outputs": [],
   "source": [
    "import numpy as np\n",
    "import pandas as pd\n",
    "import matplotlib.pyplot as plt"
   ]
  },
  {
   "cell_type": "markdown",
   "id": "f8745389-e8b5-49eb-a4b3-ac98bab13614",
   "metadata": {},
   "source": [
    "## Importing the Dataset"
   ]
  },
  {
   "cell_type": "code",
   "execution_count": 2,
   "id": "94a44880-c976-4678-a7e3-f1ef22eb29f3",
   "metadata": {},
   "outputs": [],
   "source": [
    "dataset = pd.read_csv('train.csv')\n",
    "X_df = dataset[['record_number', 'days_since_opened', 'days_since_confirmed', 'primary_term', 'final_term', 'days_till_primary_close', 'days_till_final_close', 'loans_credit_limit', 'loans_next_payment_summary', 'loans_outstanding_balance', 'loans_credit_cost_rate', 'utilization', 'max_over_limit_count', 'encoded_payment_0', 'encoded_payment_1', 'encoded_payment_2', 'encoded_payment_4', 'encoded_payment_5', 'encoded_payment_6', 'encoded_payment_7', 'encoded_payment_8', 'encoded_payment_14', 'encoded_loans_account_holder_type', 'encoded_loans_credit_status', 'encoded_loans_credit_type']]\n",
    "X = X_df.values\n",
    "y1 = dataset.iloc[:, 60].values\n",
    "y2 = dataset.iloc[:, 61].values"
   ]
  },
  {
   "cell_type": "code",
   "execution_count": 3,
   "id": "c04385cd-d483-4d74-ac18-4fbe0b70c4ce",
   "metadata": {},
   "outputs": [
    {
     "data": {
      "text/html": [
       "<div>\n",
       "<style scoped>\n",
       "    .dataframe tbody tr th:only-of-type {\n",
       "        vertical-align: middle;\n",
       "    }\n",
       "\n",
       "    .dataframe tbody tr th {\n",
       "        vertical-align: top;\n",
       "    }\n",
       "\n",
       "    .dataframe thead th {\n",
       "        text-align: right;\n",
       "    }\n",
       "</style>\n",
       "<table border=\"1\" class=\"dataframe\">\n",
       "  <thead>\n",
       "    <tr style=\"text-align: right;\">\n",
       "      <th></th>\n",
       "      <th>record_number</th>\n",
       "      <th>days_since_opened</th>\n",
       "      <th>days_since_confirmed</th>\n",
       "      <th>primary_term</th>\n",
       "      <th>final_term</th>\n",
       "      <th>days_till_primary_close</th>\n",
       "      <th>days_till_final_close</th>\n",
       "      <th>loans_credit_limit</th>\n",
       "      <th>loans_next_payment_summary</th>\n",
       "      <th>loans_outstanding_balance</th>\n",
       "      <th>...</th>\n",
       "      <th>encoded_payment_21</th>\n",
       "      <th>encoded_payment_22</th>\n",
       "      <th>encoded_payment_23</th>\n",
       "      <th>encoded_payment_24</th>\n",
       "      <th>encoded_loans_account_holder_type</th>\n",
       "      <th>encoded_loans_credit_status</th>\n",
       "      <th>encoded_loans_credit_type</th>\n",
       "      <th>encoded_loans_account_currency</th>\n",
       "      <th>primary_close_flag</th>\n",
       "      <th>final_close_flag</th>\n",
       "    </tr>\n",
       "  </thead>\n",
       "  <tbody>\n",
       "    <tr>\n",
       "      <th>count</th>\n",
       "      <td>1.106674e+06</td>\n",
       "      <td>1.106674e+06</td>\n",
       "      <td>1.106674e+06</td>\n",
       "      <td>1.106674e+06</td>\n",
       "      <td>1.106674e+06</td>\n",
       "      <td>1.106674e+06</td>\n",
       "      <td>1.106674e+06</td>\n",
       "      <td>1.106674e+06</td>\n",
       "      <td>1.106674e+06</td>\n",
       "      <td>1.106674e+06</td>\n",
       "      <td>...</td>\n",
       "      <td>1.069126e+06</td>\n",
       "      <td>1.069519e+06</td>\n",
       "      <td>1.070131e+06</td>\n",
       "      <td>1.070629e+06</td>\n",
       "      <td>1.106674e+06</td>\n",
       "      <td>1.106674e+06</td>\n",
       "      <td>1.106674e+06</td>\n",
       "      <td>1.106674e+06</td>\n",
       "      <td>1.106674e+06</td>\n",
       "      <td>1.106674e+06</td>\n",
       "    </tr>\n",
       "    <tr>\n",
       "      <th>mean</th>\n",
       "      <td>9.149727e+00</td>\n",
       "      <td>9.433967e+00</td>\n",
       "      <td>8.231377e+00</td>\n",
       "      <td>8.408147e+00</td>\n",
       "      <td>8.282763e+00</td>\n",
       "      <td>7.273099e+00</td>\n",
       "      <td>8.193988e+00</td>\n",
       "      <td>9.715922e+00</td>\n",
       "      <td>2.332612e+00</td>\n",
       "      <td>2.993031e+00</td>\n",
       "      <td>...</td>\n",
       "      <td>2.328069e+00</td>\n",
       "      <td>2.359353e+00</td>\n",
       "      <td>2.393023e+00</td>\n",
       "      <td>3.529236e+00</td>\n",
       "      <td>1.029407e+00</td>\n",
       "      <td>2.758336e+00</td>\n",
       "      <td>3.599215e+00</td>\n",
       "      <td>1.001480e+00</td>\n",
       "      <td>1.282708e-01</td>\n",
       "      <td>1.910454e-01</td>\n",
       "    </tr>\n",
       "    <tr>\n",
       "      <th>std</th>\n",
       "      <td>5.746106e+00</td>\n",
       "      <td>5.747728e+00</td>\n",
       "      <td>4.776280e+00</td>\n",
       "      <td>5.282007e+00</td>\n",
       "      <td>4.565543e+00</td>\n",
       "      <td>5.094787e+00</td>\n",
       "      <td>4.321941e+00</td>\n",
       "      <td>5.844795e+00</td>\n",
       "      <td>1.247430e+00</td>\n",
       "      <td>6.411320e-01</td>\n",
       "      <td>...</td>\n",
       "      <td>1.238293e+00</td>\n",
       "      <td>1.217475e+00</td>\n",
       "      <td>1.193804e+00</td>\n",
       "      <td>1.081633e+00</td>\n",
       "      <td>2.931483e-01</td>\n",
       "      <td>4.686307e-01</td>\n",
       "      <td>1.011067e+00</td>\n",
       "      <td>4.470347e-02</td>\n",
       "      <td>3.343913e-01</td>\n",
       "      <td>3.931249e-01</td>\n",
       "    </tr>\n",
       "    <tr>\n",
       "      <th>min</th>\n",
       "      <td>1.000000e+00</td>\n",
       "      <td>0.000000e+00</td>\n",
       "      <td>0.000000e+00</td>\n",
       "      <td>0.000000e+00</td>\n",
       "      <td>0.000000e+00</td>\n",
       "      <td>0.000000e+00</td>\n",
       "      <td>0.000000e+00</td>\n",
       "      <td>0.000000e+00</td>\n",
       "      <td>0.000000e+00</td>\n",
       "      <td>1.000000e+00</td>\n",
       "      <td>...</td>\n",
       "      <td>0.000000e+00</td>\n",
       "      <td>0.000000e+00</td>\n",
       "      <td>0.000000e+00</td>\n",
       "      <td>1.000000e+00</td>\n",
       "      <td>0.000000e+00</td>\n",
       "      <td>0.000000e+00</td>\n",
       "      <td>0.000000e+00</td>\n",
       "      <td>0.000000e+00</td>\n",
       "      <td>0.000000e+00</td>\n",
       "      <td>0.000000e+00</td>\n",
       "    </tr>\n",
       "    <tr>\n",
       "      <th>25%</th>\n",
       "      <td>5.000000e+00</td>\n",
       "      <td>5.000000e+00</td>\n",
       "      <td>4.000000e+00</td>\n",
       "      <td>4.000000e+00</td>\n",
       "      <td>5.000000e+00</td>\n",
       "      <td>2.000000e+00</td>\n",
       "      <td>5.000000e+00</td>\n",
       "      <td>5.000000e+00</td>\n",
       "      <td>2.000000e+00</td>\n",
       "      <td>3.000000e+00</td>\n",
       "      <td>...</td>\n",
       "      <td>3.000000e+00</td>\n",
       "      <td>3.000000e+00</td>\n",
       "      <td>3.000000e+00</td>\n",
       "      <td>4.000000e+00</td>\n",
       "      <td>1.000000e+00</td>\n",
       "      <td>2.000000e+00</td>\n",
       "      <td>3.000000e+00</td>\n",
       "      <td>1.000000e+00</td>\n",
       "      <td>0.000000e+00</td>\n",
       "      <td>0.000000e+00</td>\n",
       "    </tr>\n",
       "    <tr>\n",
       "      <th>50%</th>\n",
       "      <td>9.000000e+00</td>\n",
       "      <td>1.000000e+01</td>\n",
       "      <td>9.000000e+00</td>\n",
       "      <td>8.000000e+00</td>\n",
       "      <td>8.000000e+00</td>\n",
       "      <td>7.000000e+00</td>\n",
       "      <td>9.000000e+00</td>\n",
       "      <td>1.000000e+01</td>\n",
       "      <td>2.000000e+00</td>\n",
       "      <td>3.000000e+00</td>\n",
       "      <td>...</td>\n",
       "      <td>3.000000e+00</td>\n",
       "      <td>3.000000e+00</td>\n",
       "      <td>3.000000e+00</td>\n",
       "      <td>4.000000e+00</td>\n",
       "      <td>1.000000e+00</td>\n",
       "      <td>3.000000e+00</td>\n",
       "      <td>4.000000e+00</td>\n",
       "      <td>1.000000e+00</td>\n",
       "      <td>0.000000e+00</td>\n",
       "      <td>0.000000e+00</td>\n",
       "    </tr>\n",
       "    <tr>\n",
       "      <th>75%</th>\n",
       "      <td>1.300000e+01</td>\n",
       "      <td>1.400000e+01</td>\n",
       "      <td>1.200000e+01</td>\n",
       "      <td>1.400000e+01</td>\n",
       "      <td>1.200000e+01</td>\n",
       "      <td>1.200000e+01</td>\n",
       "      <td>1.100000e+01</td>\n",
       "      <td>1.500000e+01</td>\n",
       "      <td>2.000000e+00</td>\n",
       "      <td>3.000000e+00</td>\n",
       "      <td>...</td>\n",
       "      <td>3.000000e+00</td>\n",
       "      <td>3.000000e+00</td>\n",
       "      <td>3.000000e+00</td>\n",
       "      <td>4.000000e+00</td>\n",
       "      <td>1.000000e+00</td>\n",
       "      <td>3.000000e+00</td>\n",
       "      <td>4.000000e+00</td>\n",
       "      <td>1.000000e+00</td>\n",
       "      <td>0.000000e+00</td>\n",
       "      <td>0.000000e+00</td>\n",
       "    </tr>\n",
       "    <tr>\n",
       "      <th>max</th>\n",
       "      <td>4.700000e+01</td>\n",
       "      <td>1.900000e+01</td>\n",
       "      <td>1.700000e+01</td>\n",
       "      <td>1.700000e+01</td>\n",
       "      <td>1.600000e+01</td>\n",
       "      <td>1.600000e+01</td>\n",
       "      <td>1.500000e+01</td>\n",
       "      <td>1.900000e+01</td>\n",
       "      <td>6.000000e+00</td>\n",
       "      <td>5.000000e+00</td>\n",
       "      <td>...</td>\n",
       "      <td>3.000000e+00</td>\n",
       "      <td>3.000000e+00</td>\n",
       "      <td>3.000000e+00</td>\n",
       "      <td>4.000000e+00</td>\n",
       "      <td>6.000000e+00</td>\n",
       "      <td>6.000000e+00</td>\n",
       "      <td>7.000000e+00</td>\n",
       "      <td>3.000000e+00</td>\n",
       "      <td>1.000000e+00</td>\n",
       "      <td>1.000000e+00</td>\n",
       "    </tr>\n",
       "  </tbody>\n",
       "</table>\n",
       "<p>8 rows × 51 columns</p>\n",
       "</div>"
      ],
      "text/plain": [
       "       record_number  days_since_opened  days_since_confirmed  primary_term  \\\n",
       "count   1.106674e+06       1.106674e+06          1.106674e+06  1.106674e+06   \n",
       "mean    9.149727e+00       9.433967e+00          8.231377e+00  8.408147e+00   \n",
       "std     5.746106e+00       5.747728e+00          4.776280e+00  5.282007e+00   \n",
       "min     1.000000e+00       0.000000e+00          0.000000e+00  0.000000e+00   \n",
       "25%     5.000000e+00       5.000000e+00          4.000000e+00  4.000000e+00   \n",
       "50%     9.000000e+00       1.000000e+01          9.000000e+00  8.000000e+00   \n",
       "75%     1.300000e+01       1.400000e+01          1.200000e+01  1.400000e+01   \n",
       "max     4.700000e+01       1.900000e+01          1.700000e+01  1.700000e+01   \n",
       "\n",
       "         final_term  days_till_primary_close  days_till_final_close  \\\n",
       "count  1.106674e+06             1.106674e+06           1.106674e+06   \n",
       "mean   8.282763e+00             7.273099e+00           8.193988e+00   \n",
       "std    4.565543e+00             5.094787e+00           4.321941e+00   \n",
       "min    0.000000e+00             0.000000e+00           0.000000e+00   \n",
       "25%    5.000000e+00             2.000000e+00           5.000000e+00   \n",
       "50%    8.000000e+00             7.000000e+00           9.000000e+00   \n",
       "75%    1.200000e+01             1.200000e+01           1.100000e+01   \n",
       "max    1.600000e+01             1.600000e+01           1.500000e+01   \n",
       "\n",
       "       loans_credit_limit  loans_next_payment_summary  \\\n",
       "count        1.106674e+06                1.106674e+06   \n",
       "mean         9.715922e+00                2.332612e+00   \n",
       "std          5.844795e+00                1.247430e+00   \n",
       "min          0.000000e+00                0.000000e+00   \n",
       "25%          5.000000e+00                2.000000e+00   \n",
       "50%          1.000000e+01                2.000000e+00   \n",
       "75%          1.500000e+01                2.000000e+00   \n",
       "max          1.900000e+01                6.000000e+00   \n",
       "\n",
       "       loans_outstanding_balance  ...  encoded_payment_21  encoded_payment_22  \\\n",
       "count               1.106674e+06  ...        1.069126e+06        1.069519e+06   \n",
       "mean                2.993031e+00  ...        2.328069e+00        2.359353e+00   \n",
       "std                 6.411320e-01  ...        1.238293e+00        1.217475e+00   \n",
       "min                 1.000000e+00  ...        0.000000e+00        0.000000e+00   \n",
       "25%                 3.000000e+00  ...        3.000000e+00        3.000000e+00   \n",
       "50%                 3.000000e+00  ...        3.000000e+00        3.000000e+00   \n",
       "75%                 3.000000e+00  ...        3.000000e+00        3.000000e+00   \n",
       "max                 5.000000e+00  ...        3.000000e+00        3.000000e+00   \n",
       "\n",
       "       encoded_payment_23  encoded_payment_24  \\\n",
       "count        1.070131e+06        1.070629e+06   \n",
       "mean         2.393023e+00        3.529236e+00   \n",
       "std          1.193804e+00        1.081633e+00   \n",
       "min          0.000000e+00        1.000000e+00   \n",
       "25%          3.000000e+00        4.000000e+00   \n",
       "50%          3.000000e+00        4.000000e+00   \n",
       "75%          3.000000e+00        4.000000e+00   \n",
       "max          3.000000e+00        4.000000e+00   \n",
       "\n",
       "       encoded_loans_account_holder_type  encoded_loans_credit_status  \\\n",
       "count                       1.106674e+06                 1.106674e+06   \n",
       "mean                        1.029407e+00                 2.758336e+00   \n",
       "std                         2.931483e-01                 4.686307e-01   \n",
       "min                         0.000000e+00                 0.000000e+00   \n",
       "25%                         1.000000e+00                 2.000000e+00   \n",
       "50%                         1.000000e+00                 3.000000e+00   \n",
       "75%                         1.000000e+00                 3.000000e+00   \n",
       "max                         6.000000e+00                 6.000000e+00   \n",
       "\n",
       "       encoded_loans_credit_type  encoded_loans_account_currency  \\\n",
       "count               1.106674e+06                    1.106674e+06   \n",
       "mean                3.599215e+00                    1.001480e+00   \n",
       "std                 1.011067e+00                    4.470347e-02   \n",
       "min                 0.000000e+00                    0.000000e+00   \n",
       "25%                 3.000000e+00                    1.000000e+00   \n",
       "50%                 4.000000e+00                    1.000000e+00   \n",
       "75%                 4.000000e+00                    1.000000e+00   \n",
       "max                 7.000000e+00                    3.000000e+00   \n",
       "\n",
       "       primary_close_flag  final_close_flag  \n",
       "count        1.106674e+06      1.106674e+06  \n",
       "mean         1.282708e-01      1.910454e-01  \n",
       "std          3.343913e-01      3.931249e-01  \n",
       "min          0.000000e+00      0.000000e+00  \n",
       "25%          0.000000e+00      0.000000e+00  \n",
       "50%          0.000000e+00      0.000000e+00  \n",
       "75%          0.000000e+00      0.000000e+00  \n",
       "max          1.000000e+00      1.000000e+00  \n",
       "\n",
       "[8 rows x 51 columns]"
      ]
     },
     "execution_count": 3,
     "metadata": {},
     "output_type": "execute_result"
    }
   ],
   "source": [
    "dataset.describe()"
   ]
  },
  {
   "cell_type": "code",
   "execution_count": 4,
   "id": "467952a5-a16b-411a-a74d-75588c597257",
   "metadata": {},
   "outputs": [
    {
     "data": {
      "text/plain": [
       "array([[ 7., 10.,  8., ...,  1.,  3.,  4.],\n",
       "       [ 5., 15.,  6., ...,  1.,  3.,  4.],\n",
       "       [ 1., 15., 17., ...,  1.,  3.,  4.],\n",
       "       ...,\n",
       "       [ 3.,  8.,  7., ...,  1.,  3.,  4.],\n",
       "       [ 4., 10.,  4., ...,  1.,  3.,  4.],\n",
       "       [12.,  1., 10., ...,  1.,  2.,  3.]])"
      ]
     },
     "execution_count": 4,
     "metadata": {},
     "output_type": "execute_result"
    }
   ],
   "source": [
    "X"
   ]
  },
  {
   "cell_type": "code",
   "execution_count": 5,
   "id": "7962c51e-d2b2-42bc-9136-d49c5cee87cf",
   "metadata": {},
   "outputs": [
    {
     "data": {
      "text/plain": [
       "25"
      ]
     },
     "execution_count": 5,
     "metadata": {},
     "output_type": "execute_result"
    }
   ],
   "source": [
    "len(X[1])"
   ]
  },
  {
   "cell_type": "markdown",
   "id": "43c2a9fc-9cf1-4516-b7e3-6a49a1ef7493",
   "metadata": {},
   "source": [
    "## Taking care of missing values"
   ]
  },
  {
   "cell_type": "code",
   "execution_count": 6,
   "id": "8d456eeb-6fec-436e-887b-1536ef9644d9",
   "metadata": {},
   "outputs": [],
   "source": [
    "from sklearn.impute import SimpleImputer\n",
    "imputer = SimpleImputer(missing_values = np.nan, strategy = 'median')\n",
    "imputer.fit(X[:, :])\n",
    "X[:, :] = imputer.transform(X[:, :])"
   ]
  },
  {
   "cell_type": "markdown",
   "id": "b9b8faae-4d3b-4cdd-ba47-cf23b39c539f",
   "metadata": {},
   "source": [
    "## Splitting the dataset"
   ]
  },
  {
   "cell_type": "code",
   "execution_count": 7,
   "id": "c187a0c7-87aa-4a53-8168-e796776ec758",
   "metadata": {},
   "outputs": [],
   "source": [
    "from sklearn.model_selection import train_test_split\n",
    "X_train, X_test, y1_train, y1_test = train_test_split(X, y1, test_size = 0.2, random_state = 1)\n",
    "X_train, X_test, y2_train, y2_test = train_test_split(X, y2, test_size = 0.2, random_state = 1)"
   ]
  },
  {
   "cell_type": "markdown",
   "id": "3594c878-7baf-4957-9b6a-447e1d0ca821",
   "metadata": {},
   "source": [
    "# Training Descision Tree classifier for y1"
   ]
  },
  {
   "cell_type": "code",
   "execution_count": 8,
   "id": "6af96a9d-aeb1-40a7-bfb8-2898bd8be7e6",
   "metadata": {},
   "outputs": [
    {
     "data": {
      "text/html": [
       "<style>#sk-container-id-1 {color: black;}#sk-container-id-1 pre{padding: 0;}#sk-container-id-1 div.sk-toggleable {background-color: white;}#sk-container-id-1 label.sk-toggleable__label {cursor: pointer;display: block;width: 100%;margin-bottom: 0;padding: 0.3em;box-sizing: border-box;text-align: center;}#sk-container-id-1 label.sk-toggleable__label-arrow:before {content: \"▸\";float: left;margin-right: 0.25em;color: #696969;}#sk-container-id-1 label.sk-toggleable__label-arrow:hover:before {color: black;}#sk-container-id-1 div.sk-estimator:hover label.sk-toggleable__label-arrow:before {color: black;}#sk-container-id-1 div.sk-toggleable__content {max-height: 0;max-width: 0;overflow: hidden;text-align: left;background-color: #f0f8ff;}#sk-container-id-1 div.sk-toggleable__content pre {margin: 0.2em;color: black;border-radius: 0.25em;background-color: #f0f8ff;}#sk-container-id-1 input.sk-toggleable__control:checked~div.sk-toggleable__content {max-height: 200px;max-width: 100%;overflow: auto;}#sk-container-id-1 input.sk-toggleable__control:checked~label.sk-toggleable__label-arrow:before {content: \"▾\";}#sk-container-id-1 div.sk-estimator input.sk-toggleable__control:checked~label.sk-toggleable__label {background-color: #d4ebff;}#sk-container-id-1 div.sk-label input.sk-toggleable__control:checked~label.sk-toggleable__label {background-color: #d4ebff;}#sk-container-id-1 input.sk-hidden--visually {border: 0;clip: rect(1px 1px 1px 1px);clip: rect(1px, 1px, 1px, 1px);height: 1px;margin: -1px;overflow: hidden;padding: 0;position: absolute;width: 1px;}#sk-container-id-1 div.sk-estimator {font-family: monospace;background-color: #f0f8ff;border: 1px dotted black;border-radius: 0.25em;box-sizing: border-box;margin-bottom: 0.5em;}#sk-container-id-1 div.sk-estimator:hover {background-color: #d4ebff;}#sk-container-id-1 div.sk-parallel-item::after {content: \"\";width: 100%;border-bottom: 1px solid gray;flex-grow: 1;}#sk-container-id-1 div.sk-label:hover label.sk-toggleable__label {background-color: #d4ebff;}#sk-container-id-1 div.sk-serial::before {content: \"\";position: absolute;border-left: 1px solid gray;box-sizing: border-box;top: 0;bottom: 0;left: 50%;z-index: 0;}#sk-container-id-1 div.sk-serial {display: flex;flex-direction: column;align-items: center;background-color: white;padding-right: 0.2em;padding-left: 0.2em;position: relative;}#sk-container-id-1 div.sk-item {position: relative;z-index: 1;}#sk-container-id-1 div.sk-parallel {display: flex;align-items: stretch;justify-content: center;background-color: white;position: relative;}#sk-container-id-1 div.sk-item::before, #sk-container-id-1 div.sk-parallel-item::before {content: \"\";position: absolute;border-left: 1px solid gray;box-sizing: border-box;top: 0;bottom: 0;left: 50%;z-index: -1;}#sk-container-id-1 div.sk-parallel-item {display: flex;flex-direction: column;z-index: 1;position: relative;background-color: white;}#sk-container-id-1 div.sk-parallel-item:first-child::after {align-self: flex-end;width: 50%;}#sk-container-id-1 div.sk-parallel-item:last-child::after {align-self: flex-start;width: 50%;}#sk-container-id-1 div.sk-parallel-item:only-child::after {width: 0;}#sk-container-id-1 div.sk-dashed-wrapped {border: 1px dashed gray;margin: 0 0.4em 0.5em 0.4em;box-sizing: border-box;padding-bottom: 0.4em;background-color: white;}#sk-container-id-1 div.sk-label label {font-family: monospace;font-weight: bold;display: inline-block;line-height: 1.2em;}#sk-container-id-1 div.sk-label-container {text-align: center;}#sk-container-id-1 div.sk-container {/* jupyter's `normalize.less` sets `[hidden] { display: none; }` but bootstrap.min.css set `[hidden] { display: none !important; }` so we also need the `!important` here to be able to override the default hidden behavior on the sphinx rendered scikit-learn.org. See: https://github.com/scikit-learn/scikit-learn/issues/21755 */display: inline-block !important;position: relative;}#sk-container-id-1 div.sk-text-repr-fallback {display: none;}</style><div id=\"sk-container-id-1\" class=\"sk-top-container\"><div class=\"sk-text-repr-fallback\"><pre>DecisionTreeClassifier(criterion=&#x27;entropy&#x27;, random_state=0)</pre><b>In a Jupyter environment, please rerun this cell to show the HTML representation or trust the notebook. <br />On GitHub, the HTML representation is unable to render, please try loading this page with nbviewer.org.</b></div><div class=\"sk-container\" hidden><div class=\"sk-item\"><div class=\"sk-estimator sk-toggleable\"><input class=\"sk-toggleable__control sk-hidden--visually\" id=\"sk-estimator-id-1\" type=\"checkbox\" checked><label for=\"sk-estimator-id-1\" class=\"sk-toggleable__label sk-toggleable__label-arrow\">DecisionTreeClassifier</label><div class=\"sk-toggleable__content\"><pre>DecisionTreeClassifier(criterion=&#x27;entropy&#x27;, random_state=0)</pre></div></div></div></div></div>"
      ],
      "text/plain": [
       "DecisionTreeClassifier(criterion='entropy', random_state=0)"
      ]
     },
     "execution_count": 8,
     "metadata": {},
     "output_type": "execute_result"
    }
   ],
   "source": [
    "from sklearn.tree import DecisionTreeClassifier\n",
    "classifierY1 = DecisionTreeClassifier(criterion = 'entropy', random_state = 0)\n",
    "classifierY1.fit(X_train, y1_train)"
   ]
  },
  {
   "cell_type": "code",
   "execution_count": 9,
   "id": "1733f707-4552-4c07-aa75-2a870bee3272",
   "metadata": {},
   "outputs": [
    {
     "name": "stdout",
     "output_type": "stream",
     "text": [
      "[[1 1]\n",
      " [0 0]\n",
      " [0 0]\n",
      " ...\n",
      " [0 0]\n",
      " [0 0]\n",
      " [0 0]]\n"
     ]
    }
   ],
   "source": [
    "y1_pred = classifierY1.predict(X_test)\n",
    "print(np.concatenate((y1_pred.reshape(len(y1_pred),1), y1_test.reshape(len(y1_test),1)),1))"
   ]
  },
  {
   "cell_type": "markdown",
   "id": "87ec4bda-8be3-4bf0-a7a7-dffd6708976b",
   "metadata": {},
   "source": [
    "## Accuracy and confusion matrix"
   ]
  },
  {
   "cell_type": "code",
   "execution_count": 10,
   "id": "6aed64ee-f0c5-45ba-a846-e9e7b6fa4af0",
   "metadata": {},
   "outputs": [
    {
     "name": "stdout",
     "output_type": "stream",
     "text": [
      "[[193095     11]\n",
      " [    15  28214]]\n"
     ]
    },
    {
     "data": {
      "text/plain": [
       "0.9998825310050377"
      ]
     },
     "execution_count": 10,
     "metadata": {},
     "output_type": "execute_result"
    }
   ],
   "source": [
    "from sklearn.metrics import confusion_matrix, accuracy_score, roc_auc_score\n",
    "cm = confusion_matrix(y1_test, y1_pred)\n",
    "print(cm)\n",
    "accuracy_score(y1_test, y1_pred)"
   ]
  },
  {
   "cell_type": "code",
   "execution_count": 11,
   "id": "32de42aa-9c11-48e7-af85-26f3346b6c95",
   "metadata": {},
   "outputs": [
    {
     "data": {
      "text/plain": [
       "0.9997058340080671"
      ]
     },
     "execution_count": 11,
     "metadata": {},
     "output_type": "execute_result"
    }
   ],
   "source": [
    "roc_auc_score(y1_test, y1_pred)"
   ]
  },
  {
   "cell_type": "markdown",
   "id": "2c27a460-f374-475c-af30-54d5c365ea98",
   "metadata": {},
   "source": [
    "# Training descision tree classifier for y2"
   ]
  },
  {
   "cell_type": "code",
   "execution_count": 12,
   "id": "6a1db857-80b4-42fb-a9ce-49abb0eb4eb8",
   "metadata": {},
   "outputs": [
    {
     "data": {
      "text/html": [
       "<style>#sk-container-id-2 {color: black;}#sk-container-id-2 pre{padding: 0;}#sk-container-id-2 div.sk-toggleable {background-color: white;}#sk-container-id-2 label.sk-toggleable__label {cursor: pointer;display: block;width: 100%;margin-bottom: 0;padding: 0.3em;box-sizing: border-box;text-align: center;}#sk-container-id-2 label.sk-toggleable__label-arrow:before {content: \"▸\";float: left;margin-right: 0.25em;color: #696969;}#sk-container-id-2 label.sk-toggleable__label-arrow:hover:before {color: black;}#sk-container-id-2 div.sk-estimator:hover label.sk-toggleable__label-arrow:before {color: black;}#sk-container-id-2 div.sk-toggleable__content {max-height: 0;max-width: 0;overflow: hidden;text-align: left;background-color: #f0f8ff;}#sk-container-id-2 div.sk-toggleable__content pre {margin: 0.2em;color: black;border-radius: 0.25em;background-color: #f0f8ff;}#sk-container-id-2 input.sk-toggleable__control:checked~div.sk-toggleable__content {max-height: 200px;max-width: 100%;overflow: auto;}#sk-container-id-2 input.sk-toggleable__control:checked~label.sk-toggleable__label-arrow:before {content: \"▾\";}#sk-container-id-2 div.sk-estimator input.sk-toggleable__control:checked~label.sk-toggleable__label {background-color: #d4ebff;}#sk-container-id-2 div.sk-label input.sk-toggleable__control:checked~label.sk-toggleable__label {background-color: #d4ebff;}#sk-container-id-2 input.sk-hidden--visually {border: 0;clip: rect(1px 1px 1px 1px);clip: rect(1px, 1px, 1px, 1px);height: 1px;margin: -1px;overflow: hidden;padding: 0;position: absolute;width: 1px;}#sk-container-id-2 div.sk-estimator {font-family: monospace;background-color: #f0f8ff;border: 1px dotted black;border-radius: 0.25em;box-sizing: border-box;margin-bottom: 0.5em;}#sk-container-id-2 div.sk-estimator:hover {background-color: #d4ebff;}#sk-container-id-2 div.sk-parallel-item::after {content: \"\";width: 100%;border-bottom: 1px solid gray;flex-grow: 1;}#sk-container-id-2 div.sk-label:hover label.sk-toggleable__label {background-color: #d4ebff;}#sk-container-id-2 div.sk-serial::before {content: \"\";position: absolute;border-left: 1px solid gray;box-sizing: border-box;top: 0;bottom: 0;left: 50%;z-index: 0;}#sk-container-id-2 div.sk-serial {display: flex;flex-direction: column;align-items: center;background-color: white;padding-right: 0.2em;padding-left: 0.2em;position: relative;}#sk-container-id-2 div.sk-item {position: relative;z-index: 1;}#sk-container-id-2 div.sk-parallel {display: flex;align-items: stretch;justify-content: center;background-color: white;position: relative;}#sk-container-id-2 div.sk-item::before, #sk-container-id-2 div.sk-parallel-item::before {content: \"\";position: absolute;border-left: 1px solid gray;box-sizing: border-box;top: 0;bottom: 0;left: 50%;z-index: -1;}#sk-container-id-2 div.sk-parallel-item {display: flex;flex-direction: column;z-index: 1;position: relative;background-color: white;}#sk-container-id-2 div.sk-parallel-item:first-child::after {align-self: flex-end;width: 50%;}#sk-container-id-2 div.sk-parallel-item:last-child::after {align-self: flex-start;width: 50%;}#sk-container-id-2 div.sk-parallel-item:only-child::after {width: 0;}#sk-container-id-2 div.sk-dashed-wrapped {border: 1px dashed gray;margin: 0 0.4em 0.5em 0.4em;box-sizing: border-box;padding-bottom: 0.4em;background-color: white;}#sk-container-id-2 div.sk-label label {font-family: monospace;font-weight: bold;display: inline-block;line-height: 1.2em;}#sk-container-id-2 div.sk-label-container {text-align: center;}#sk-container-id-2 div.sk-container {/* jupyter's `normalize.less` sets `[hidden] { display: none; }` but bootstrap.min.css set `[hidden] { display: none !important; }` so we also need the `!important` here to be able to override the default hidden behavior on the sphinx rendered scikit-learn.org. See: https://github.com/scikit-learn/scikit-learn/issues/21755 */display: inline-block !important;position: relative;}#sk-container-id-2 div.sk-text-repr-fallback {display: none;}</style><div id=\"sk-container-id-2\" class=\"sk-top-container\"><div class=\"sk-text-repr-fallback\"><pre>DecisionTreeClassifier(criterion=&#x27;entropy&#x27;, random_state=0)</pre><b>In a Jupyter environment, please rerun this cell to show the HTML representation or trust the notebook. <br />On GitHub, the HTML representation is unable to render, please try loading this page with nbviewer.org.</b></div><div class=\"sk-container\" hidden><div class=\"sk-item\"><div class=\"sk-estimator sk-toggleable\"><input class=\"sk-toggleable__control sk-hidden--visually\" id=\"sk-estimator-id-2\" type=\"checkbox\" checked><label for=\"sk-estimator-id-2\" class=\"sk-toggleable__label sk-toggleable__label-arrow\">DecisionTreeClassifier</label><div class=\"sk-toggleable__content\"><pre>DecisionTreeClassifier(criterion=&#x27;entropy&#x27;, random_state=0)</pre></div></div></div></div></div>"
      ],
      "text/plain": [
       "DecisionTreeClassifier(criterion='entropy', random_state=0)"
      ]
     },
     "execution_count": 12,
     "metadata": {},
     "output_type": "execute_result"
    }
   ],
   "source": [
    "from sklearn.tree import DecisionTreeClassifier\n",
    "classifierY2 = DecisionTreeClassifier(criterion = 'entropy', random_state = 0)\n",
    "classifierY2.fit(X_train, y2_train)"
   ]
  },
  {
   "cell_type": "code",
   "execution_count": 13,
   "id": "47c04138-86ab-4fe6-99a0-7a32b5d98713",
   "metadata": {},
   "outputs": [
    {
     "name": "stdout",
     "output_type": "stream",
     "text": [
      "[[1 1]\n",
      " [0 0]\n",
      " [0 0]\n",
      " ...\n",
      " [0 0]\n",
      " [0 0]\n",
      " [0 0]]\n"
     ]
    }
   ],
   "source": [
    "y2_pred = classifierY2.predict(X_test)\n",
    "print(np.concatenate((y2_pred.reshape(len(y2_pred),1), y2_test.reshape(len(y2_test),1)),1))"
   ]
  },
  {
   "cell_type": "markdown",
   "id": "02edad90-0d6c-4bef-ad8c-a722ffe54bc1",
   "metadata": {},
   "source": [
    "## Accuracy and confusion matrix"
   ]
  },
  {
   "cell_type": "code",
   "execution_count": 14,
   "id": "c1f9d361-e33f-4e00-8c03-7ad1542d6e1c",
   "metadata": {},
   "outputs": [
    {
     "name": "stdout",
     "output_type": "stream",
     "text": [
      "[[179153      3]\n",
      " [     2  42177]]\n"
     ]
    },
    {
     "data": {
      "text/plain": [
       "0.9999774098086611"
      ]
     },
     "execution_count": 14,
     "metadata": {},
     "output_type": "execute_result"
    }
   ],
   "source": [
    "from sklearn.metrics import confusion_matrix, accuracy_score, roc_auc_score\n",
    "cm = confusion_matrix(y2_test, y2_pred)\n",
    "print(cm)\n",
    "accuracy_score(y2_test, y2_pred)"
   ]
  },
  {
   "cell_type": "code",
   "execution_count": 15,
   "id": "2bccd95b-f203-4992-9365-b6fa1dc9032f",
   "metadata": {},
   "outputs": [
    {
     "data": {
      "text/plain": [
       "0.9999679189279921"
      ]
     },
     "execution_count": 15,
     "metadata": {},
     "output_type": "execute_result"
    }
   ],
   "source": [
    "roc_auc_score(y2_test, y2_pred)"
   ]
  },
  {
   "cell_type": "markdown",
   "id": "2f5be326-00ed-4b1e-87fe-7186ea9a8580",
   "metadata": {},
   "source": [
    "# Finding the result on Test data"
   ]
  },
  {
   "cell_type": "code",
   "execution_count": 16,
   "id": "fdaa9c4c-ffac-478f-929a-e3ebc7462553",
   "metadata": {},
   "outputs": [],
   "source": [
    "dataset_test = pd.read_csv('test.csv')\n",
    "dataset_test_df = dataset_test[['record_number', 'days_since_opened', 'days_since_confirmed', 'primary_term', 'final_term', 'days_till_primary_close', 'days_till_final_close', 'loans_credit_limit', 'loans_next_payment_summary', 'loans_outstanding_balance', 'loans_credit_cost_rate', 'utilization', 'max_over_limit_count', 'encoded_payment_0', 'encoded_payment_1', 'encoded_payment_2', 'encoded_payment_4', 'encoded_payment_5', 'encoded_payment_6', 'encoded_payment_7', 'encoded_payment_8', 'encoded_payment_14', 'encoded_loans_account_holder_type', 'encoded_loans_credit_status', 'encoded_loans_credit_type']]\n",
    "X_test = dataset_test_df.values"
   ]
  },
  {
   "cell_type": "code",
   "execution_count": 17,
   "id": "6d1edbf7-aeb9-4abd-8a88-41405e9b3213",
   "metadata": {},
   "outputs": [
    {
     "data": {
      "text/html": [
       "<div>\n",
       "<style scoped>\n",
       "    .dataframe tbody tr th:only-of-type {\n",
       "        vertical-align: middle;\n",
       "    }\n",
       "\n",
       "    .dataframe tbody tr th {\n",
       "        vertical-align: top;\n",
       "    }\n",
       "\n",
       "    .dataframe thead th {\n",
       "        text-align: right;\n",
       "    }\n",
       "</style>\n",
       "<table border=\"1\" class=\"dataframe\">\n",
       "  <thead>\n",
       "    <tr style=\"text-align: right;\">\n",
       "      <th></th>\n",
       "      <th>record_number</th>\n",
       "      <th>days_since_opened</th>\n",
       "      <th>days_since_confirmed</th>\n",
       "      <th>primary_term</th>\n",
       "      <th>final_term</th>\n",
       "      <th>days_till_primary_close</th>\n",
       "      <th>days_till_final_close</th>\n",
       "      <th>loans_credit_limit</th>\n",
       "      <th>loans_next_payment_summary</th>\n",
       "      <th>loans_outstanding_balance</th>\n",
       "      <th>...</th>\n",
       "      <th>encoded_payment_19</th>\n",
       "      <th>encoded_payment_20</th>\n",
       "      <th>encoded_payment_21</th>\n",
       "      <th>encoded_payment_22</th>\n",
       "      <th>encoded_payment_23</th>\n",
       "      <th>encoded_payment_24</th>\n",
       "      <th>encoded_loans_account_holder_type</th>\n",
       "      <th>encoded_loans_credit_status</th>\n",
       "      <th>encoded_loans_credit_type</th>\n",
       "      <th>encoded_loans_account_currency</th>\n",
       "    </tr>\n",
       "  </thead>\n",
       "  <tbody>\n",
       "    <tr>\n",
       "      <th>count</th>\n",
       "      <td>474289.000000</td>\n",
       "      <td>474289.000000</td>\n",
       "      <td>474289.000000</td>\n",
       "      <td>474289.000000</td>\n",
       "      <td>474289.000000</td>\n",
       "      <td>474289.000000</td>\n",
       "      <td>474289.000000</td>\n",
       "      <td>474289.000000</td>\n",
       "      <td>474289.000000</td>\n",
       "      <td>474289.000000</td>\n",
       "      <td>...</td>\n",
       "      <td>458580.000000</td>\n",
       "      <td>458035.000000</td>\n",
       "      <td>458386.000000</td>\n",
       "      <td>458579.00000</td>\n",
       "      <td>458777.000000</td>\n",
       "      <td>458908.000000</td>\n",
       "      <td>474289.000000</td>\n",
       "      <td>474289.000000</td>\n",
       "      <td>474289.000000</td>\n",
       "      <td>474289.000000</td>\n",
       "    </tr>\n",
       "    <tr>\n",
       "      <th>mean</th>\n",
       "      <td>9.158857</td>\n",
       "      <td>9.429103</td>\n",
       "      <td>8.244627</td>\n",
       "      <td>8.414821</td>\n",
       "      <td>8.272642</td>\n",
       "      <td>7.279222</td>\n",
       "      <td>8.204736</td>\n",
       "      <td>9.710535</td>\n",
       "      <td>2.329729</td>\n",
       "      <td>2.992034</td>\n",
       "      <td>...</td>\n",
       "      <td>2.262318</td>\n",
       "      <td>3.297436</td>\n",
       "      <td>2.328782</td>\n",
       "      <td>2.36083</td>\n",
       "      <td>2.394734</td>\n",
       "      <td>3.528960</td>\n",
       "      <td>1.029859</td>\n",
       "      <td>2.757401</td>\n",
       "      <td>3.596527</td>\n",
       "      <td>1.001400</td>\n",
       "    </tr>\n",
       "    <tr>\n",
       "      <th>std</th>\n",
       "      <td>5.757169</td>\n",
       "      <td>5.748442</td>\n",
       "      <td>4.780351</td>\n",
       "      <td>5.282216</td>\n",
       "      <td>4.561479</td>\n",
       "      <td>5.103062</td>\n",
       "      <td>4.319350</td>\n",
       "      <td>5.845884</td>\n",
       "      <td>1.244149</td>\n",
       "      <td>0.639825</td>\n",
       "      <td>...</td>\n",
       "      <td>1.278726</td>\n",
       "      <td>1.257742</td>\n",
       "      <td>1.237950</td>\n",
       "      <td>1.21678</td>\n",
       "      <td>1.192558</td>\n",
       "      <td>1.082126</td>\n",
       "      <td>0.294979</td>\n",
       "      <td>0.468427</td>\n",
       "      <td>1.014316</td>\n",
       "      <td>0.044497</td>\n",
       "    </tr>\n",
       "    <tr>\n",
       "      <th>min</th>\n",
       "      <td>1.000000</td>\n",
       "      <td>0.000000</td>\n",
       "      <td>0.000000</td>\n",
       "      <td>0.000000</td>\n",
       "      <td>0.000000</td>\n",
       "      <td>0.000000</td>\n",
       "      <td>0.000000</td>\n",
       "      <td>0.000000</td>\n",
       "      <td>0.000000</td>\n",
       "      <td>1.000000</td>\n",
       "      <td>...</td>\n",
       "      <td>0.000000</td>\n",
       "      <td>1.000000</td>\n",
       "      <td>0.000000</td>\n",
       "      <td>0.00000</td>\n",
       "      <td>0.000000</td>\n",
       "      <td>1.000000</td>\n",
       "      <td>1.000000</td>\n",
       "      <td>0.000000</td>\n",
       "      <td>0.000000</td>\n",
       "      <td>0.000000</td>\n",
       "    </tr>\n",
       "    <tr>\n",
       "      <th>25%</th>\n",
       "      <td>5.000000</td>\n",
       "      <td>5.000000</td>\n",
       "      <td>4.000000</td>\n",
       "      <td>4.000000</td>\n",
       "      <td>5.000000</td>\n",
       "      <td>2.000000</td>\n",
       "      <td>5.000000</td>\n",
       "      <td>5.000000</td>\n",
       "      <td>2.000000</td>\n",
       "      <td>3.000000</td>\n",
       "      <td>...</td>\n",
       "      <td>1.000000</td>\n",
       "      <td>4.000000</td>\n",
       "      <td>3.000000</td>\n",
       "      <td>3.00000</td>\n",
       "      <td>3.000000</td>\n",
       "      <td>4.000000</td>\n",
       "      <td>1.000000</td>\n",
       "      <td>2.000000</td>\n",
       "      <td>3.000000</td>\n",
       "      <td>1.000000</td>\n",
       "    </tr>\n",
       "    <tr>\n",
       "      <th>50%</th>\n",
       "      <td>9.000000</td>\n",
       "      <td>10.000000</td>\n",
       "      <td>9.000000</td>\n",
       "      <td>8.000000</td>\n",
       "      <td>8.000000</td>\n",
       "      <td>7.000000</td>\n",
       "      <td>9.000000</td>\n",
       "      <td>10.000000</td>\n",
       "      <td>2.000000</td>\n",
       "      <td>3.000000</td>\n",
       "      <td>...</td>\n",
       "      <td>3.000000</td>\n",
       "      <td>4.000000</td>\n",
       "      <td>3.000000</td>\n",
       "      <td>3.00000</td>\n",
       "      <td>3.000000</td>\n",
       "      <td>4.000000</td>\n",
       "      <td>1.000000</td>\n",
       "      <td>3.000000</td>\n",
       "      <td>4.000000</td>\n",
       "      <td>1.000000</td>\n",
       "    </tr>\n",
       "    <tr>\n",
       "      <th>75%</th>\n",
       "      <td>13.000000</td>\n",
       "      <td>14.000000</td>\n",
       "      <td>12.000000</td>\n",
       "      <td>14.000000</td>\n",
       "      <td>12.000000</td>\n",
       "      <td>12.000000</td>\n",
       "      <td>11.000000</td>\n",
       "      <td>15.000000</td>\n",
       "      <td>2.000000</td>\n",
       "      <td>3.000000</td>\n",
       "      <td>...</td>\n",
       "      <td>3.000000</td>\n",
       "      <td>4.000000</td>\n",
       "      <td>3.000000</td>\n",
       "      <td>3.00000</td>\n",
       "      <td>3.000000</td>\n",
       "      <td>4.000000</td>\n",
       "      <td>1.000000</td>\n",
       "      <td>3.000000</td>\n",
       "      <td>4.000000</td>\n",
       "      <td>1.000000</td>\n",
       "    </tr>\n",
       "    <tr>\n",
       "      <th>max</th>\n",
       "      <td>48.000000</td>\n",
       "      <td>19.000000</td>\n",
       "      <td>17.000000</td>\n",
       "      <td>17.000000</td>\n",
       "      <td>16.000000</td>\n",
       "      <td>16.000000</td>\n",
       "      <td>15.000000</td>\n",
       "      <td>19.000000</td>\n",
       "      <td>6.000000</td>\n",
       "      <td>5.000000</td>\n",
       "      <td>...</td>\n",
       "      <td>3.000000</td>\n",
       "      <td>4.000000</td>\n",
       "      <td>3.000000</td>\n",
       "      <td>3.00000</td>\n",
       "      <td>3.000000</td>\n",
       "      <td>4.000000</td>\n",
       "      <td>6.000000</td>\n",
       "      <td>6.000000</td>\n",
       "      <td>7.000000</td>\n",
       "      <td>3.000000</td>\n",
       "    </tr>\n",
       "  </tbody>\n",
       "</table>\n",
       "<p>8 rows × 49 columns</p>\n",
       "</div>"
      ],
      "text/plain": [
       "       record_number  days_since_opened  days_since_confirmed   primary_term  \\\n",
       "count  474289.000000      474289.000000         474289.000000  474289.000000   \n",
       "mean        9.158857           9.429103              8.244627       8.414821   \n",
       "std         5.757169           5.748442              4.780351       5.282216   \n",
       "min         1.000000           0.000000              0.000000       0.000000   \n",
       "25%         5.000000           5.000000              4.000000       4.000000   \n",
       "50%         9.000000          10.000000              9.000000       8.000000   \n",
       "75%        13.000000          14.000000             12.000000      14.000000   \n",
       "max        48.000000          19.000000             17.000000      17.000000   \n",
       "\n",
       "          final_term  days_till_primary_close  days_till_final_close  \\\n",
       "count  474289.000000            474289.000000          474289.000000   \n",
       "mean        8.272642                 7.279222               8.204736   \n",
       "std         4.561479                 5.103062               4.319350   \n",
       "min         0.000000                 0.000000               0.000000   \n",
       "25%         5.000000                 2.000000               5.000000   \n",
       "50%         8.000000                 7.000000               9.000000   \n",
       "75%        12.000000                12.000000              11.000000   \n",
       "max        16.000000                16.000000              15.000000   \n",
       "\n",
       "       loans_credit_limit  loans_next_payment_summary  \\\n",
       "count       474289.000000               474289.000000   \n",
       "mean             9.710535                    2.329729   \n",
       "std              5.845884                    1.244149   \n",
       "min              0.000000                    0.000000   \n",
       "25%              5.000000                    2.000000   \n",
       "50%             10.000000                    2.000000   \n",
       "75%             15.000000                    2.000000   \n",
       "max             19.000000                    6.000000   \n",
       "\n",
       "       loans_outstanding_balance  ...  encoded_payment_19  encoded_payment_20  \\\n",
       "count              474289.000000  ...       458580.000000       458035.000000   \n",
       "mean                    2.992034  ...            2.262318            3.297436   \n",
       "std                     0.639825  ...            1.278726            1.257742   \n",
       "min                     1.000000  ...            0.000000            1.000000   \n",
       "25%                     3.000000  ...            1.000000            4.000000   \n",
       "50%                     3.000000  ...            3.000000            4.000000   \n",
       "75%                     3.000000  ...            3.000000            4.000000   \n",
       "max                     5.000000  ...            3.000000            4.000000   \n",
       "\n",
       "       encoded_payment_21  encoded_payment_22  encoded_payment_23  \\\n",
       "count       458386.000000        458579.00000       458777.000000   \n",
       "mean             2.328782             2.36083            2.394734   \n",
       "std              1.237950             1.21678            1.192558   \n",
       "min              0.000000             0.00000            0.000000   \n",
       "25%              3.000000             3.00000            3.000000   \n",
       "50%              3.000000             3.00000            3.000000   \n",
       "75%              3.000000             3.00000            3.000000   \n",
       "max              3.000000             3.00000            3.000000   \n",
       "\n",
       "       encoded_payment_24  encoded_loans_account_holder_type  \\\n",
       "count       458908.000000                      474289.000000   \n",
       "mean             3.528960                           1.029859   \n",
       "std              1.082126                           0.294979   \n",
       "min              1.000000                           1.000000   \n",
       "25%              4.000000                           1.000000   \n",
       "50%              4.000000                           1.000000   \n",
       "75%              4.000000                           1.000000   \n",
       "max              4.000000                           6.000000   \n",
       "\n",
       "       encoded_loans_credit_status  encoded_loans_credit_type  \\\n",
       "count                474289.000000              474289.000000   \n",
       "mean                      2.757401                   3.596527   \n",
       "std                       0.468427                   1.014316   \n",
       "min                       0.000000                   0.000000   \n",
       "25%                       2.000000                   3.000000   \n",
       "50%                       3.000000                   4.000000   \n",
       "75%                       3.000000                   4.000000   \n",
       "max                       6.000000                   7.000000   \n",
       "\n",
       "       encoded_loans_account_currency  \n",
       "count                   474289.000000  \n",
       "mean                         1.001400  \n",
       "std                          0.044497  \n",
       "min                          0.000000  \n",
       "25%                          1.000000  \n",
       "50%                          1.000000  \n",
       "75%                          1.000000  \n",
       "max                          3.000000  \n",
       "\n",
       "[8 rows x 49 columns]"
      ]
     },
     "execution_count": 17,
     "metadata": {},
     "output_type": "execute_result"
    }
   ],
   "source": [
    "dataset_test.describe()"
   ]
  },
  {
   "cell_type": "code",
   "execution_count": 18,
   "id": "ddcc677d-f52f-448b-8d49-e16c76c4234a",
   "metadata": {},
   "outputs": [
    {
     "data": {
      "text/html": [
       "<div>\n",
       "<style scoped>\n",
       "    .dataframe tbody tr th:only-of-type {\n",
       "        vertical-align: middle;\n",
       "    }\n",
       "\n",
       "    .dataframe tbody tr th {\n",
       "        vertical-align: top;\n",
       "    }\n",
       "\n",
       "    .dataframe thead th {\n",
       "        text-align: right;\n",
       "    }\n",
       "</style>\n",
       "<table border=\"1\" class=\"dataframe\">\n",
       "  <thead>\n",
       "    <tr style=\"text-align: right;\">\n",
       "      <th></th>\n",
       "      <th>customer_id</th>\n",
       "      <th>firstname</th>\n",
       "      <th>lastname</th>\n",
       "      <th>record_number</th>\n",
       "      <th>days_since_opened</th>\n",
       "      <th>days_since_confirmed</th>\n",
       "      <th>primary_term</th>\n",
       "      <th>final_term</th>\n",
       "      <th>days_till_primary_close</th>\n",
       "      <th>days_till_final_close</th>\n",
       "      <th>...</th>\n",
       "      <th>encoded_payment_19</th>\n",
       "      <th>encoded_payment_20</th>\n",
       "      <th>encoded_payment_21</th>\n",
       "      <th>encoded_payment_22</th>\n",
       "      <th>encoded_payment_23</th>\n",
       "      <th>encoded_payment_24</th>\n",
       "      <th>encoded_loans_account_holder_type</th>\n",
       "      <th>encoded_loans_credit_status</th>\n",
       "      <th>encoded_loans_credit_type</th>\n",
       "      <th>encoded_loans_account_currency</th>\n",
       "    </tr>\n",
       "  </thead>\n",
       "  <tbody>\n",
       "    <tr>\n",
       "      <th>0</th>\n",
       "      <td>1dffd171-010b-4773-894f-4095077b0e31</td>\n",
       "      <td>Aradhya</td>\n",
       "      <td>Deep</td>\n",
       "      <td>14</td>\n",
       "      <td>2</td>\n",
       "      <td>13</td>\n",
       "      <td>14</td>\n",
       "      <td>2</td>\n",
       "      <td>14</td>\n",
       "      <td>6</td>\n",
       "      <td>...</td>\n",
       "      <td>3.0</td>\n",
       "      <td>4.0</td>\n",
       "      <td>3.0</td>\n",
       "      <td>3.0</td>\n",
       "      <td>3.0</td>\n",
       "      <td>NaN</td>\n",
       "      <td>1</td>\n",
       "      <td>3</td>\n",
       "      <td>4</td>\n",
       "      <td>1</td>\n",
       "    </tr>\n",
       "    <tr>\n",
       "      <th>1</th>\n",
       "      <td>cf0e7f8c-b22b-410c-8ad6-4a5bfd4d11cf</td>\n",
       "      <td>Anahita</td>\n",
       "      <td>Anand</td>\n",
       "      <td>17</td>\n",
       "      <td>3</td>\n",
       "      <td>6</td>\n",
       "      <td>0</td>\n",
       "      <td>1</td>\n",
       "      <td>0</td>\n",
       "      <td>4</td>\n",
       "      <td>...</td>\n",
       "      <td>0.0</td>\n",
       "      <td>1.0</td>\n",
       "      <td>0.0</td>\n",
       "      <td>0.0</td>\n",
       "      <td>0.0</td>\n",
       "      <td>1.0</td>\n",
       "      <td>1</td>\n",
       "      <td>2</td>\n",
       "      <td>3</td>\n",
       "      <td>1</td>\n",
       "    </tr>\n",
       "    <tr>\n",
       "      <th>2</th>\n",
       "      <td>49c9f6ef-58f2-4334-bb44-9a4ded2e587f</td>\n",
       "      <td>Amani</td>\n",
       "      <td>Tak</td>\n",
       "      <td>14</td>\n",
       "      <td>9</td>\n",
       "      <td>10</td>\n",
       "      <td>14</td>\n",
       "      <td>7</td>\n",
       "      <td>10</td>\n",
       "      <td>4</td>\n",
       "      <td>...</td>\n",
       "      <td>3.0</td>\n",
       "      <td>4.0</td>\n",
       "      <td>3.0</td>\n",
       "      <td>3.0</td>\n",
       "      <td>3.0</td>\n",
       "      <td>4.0</td>\n",
       "      <td>1</td>\n",
       "      <td>2</td>\n",
       "      <td>4</td>\n",
       "      <td>1</td>\n",
       "    </tr>\n",
       "    <tr>\n",
       "      <th>3</th>\n",
       "      <td>daab9520-7716-4b1e-b791-907912a81f79</td>\n",
       "      <td>Tushar</td>\n",
       "      <td>Sodhi</td>\n",
       "      <td>7</td>\n",
       "      <td>14</td>\n",
       "      <td>4</td>\n",
       "      <td>12</td>\n",
       "      <td>11</td>\n",
       "      <td>6</td>\n",
       "      <td>13</td>\n",
       "      <td>...</td>\n",
       "      <td>3.0</td>\n",
       "      <td>4.0</td>\n",
       "      <td>3.0</td>\n",
       "      <td>3.0</td>\n",
       "      <td>3.0</td>\n",
       "      <td>4.0</td>\n",
       "      <td>1</td>\n",
       "      <td>3</td>\n",
       "      <td>4</td>\n",
       "      <td>1</td>\n",
       "    </tr>\n",
       "    <tr>\n",
       "      <th>4</th>\n",
       "      <td>9d4adc34-368e-4642-98a2-58d73b4294f7</td>\n",
       "      <td>Jivika</td>\n",
       "      <td>Rana</td>\n",
       "      <td>13</td>\n",
       "      <td>3</td>\n",
       "      <td>3</td>\n",
       "      <td>16</td>\n",
       "      <td>1</td>\n",
       "      <td>15</td>\n",
       "      <td>4</td>\n",
       "      <td>...</td>\n",
       "      <td>3.0</td>\n",
       "      <td>4.0</td>\n",
       "      <td>3.0</td>\n",
       "      <td>3.0</td>\n",
       "      <td>3.0</td>\n",
       "      <td>4.0</td>\n",
       "      <td>1</td>\n",
       "      <td>3</td>\n",
       "      <td>3</td>\n",
       "      <td>1</td>\n",
       "    </tr>\n",
       "  </tbody>\n",
       "</table>\n",
       "<p>5 rows × 60 columns</p>\n",
       "</div>"
      ],
      "text/plain": [
       "                            customer_id firstname lastname  record_number  \\\n",
       "0  1dffd171-010b-4773-894f-4095077b0e31   Aradhya     Deep             14   \n",
       "1  cf0e7f8c-b22b-410c-8ad6-4a5bfd4d11cf   Anahita    Anand             17   \n",
       "2  49c9f6ef-58f2-4334-bb44-9a4ded2e587f     Amani      Tak             14   \n",
       "3  daab9520-7716-4b1e-b791-907912a81f79    Tushar    Sodhi              7   \n",
       "4  9d4adc34-368e-4642-98a2-58d73b4294f7    Jivika     Rana             13   \n",
       "\n",
       "   days_since_opened  days_since_confirmed  primary_term  final_term  \\\n",
       "0                  2                    13            14           2   \n",
       "1                  3                     6             0           1   \n",
       "2                  9                    10            14           7   \n",
       "3                 14                     4            12          11   \n",
       "4                  3                     3            16           1   \n",
       "\n",
       "   days_till_primary_close  days_till_final_close  ...  encoded_payment_19  \\\n",
       "0                       14                      6  ...                 3.0   \n",
       "1                        0                      4  ...                 0.0   \n",
       "2                       10                      4  ...                 3.0   \n",
       "3                        6                     13  ...                 3.0   \n",
       "4                       15                      4  ...                 3.0   \n",
       "\n",
       "   encoded_payment_20  encoded_payment_21  encoded_payment_22  \\\n",
       "0                 4.0                 3.0                 3.0   \n",
       "1                 1.0                 0.0                 0.0   \n",
       "2                 4.0                 3.0                 3.0   \n",
       "3                 4.0                 3.0                 3.0   \n",
       "4                 4.0                 3.0                 3.0   \n",
       "\n",
       "   encoded_payment_23  encoded_payment_24  encoded_loans_account_holder_type  \\\n",
       "0                 3.0                 NaN                                  1   \n",
       "1                 0.0                 1.0                                  1   \n",
       "2                 3.0                 4.0                                  1   \n",
       "3                 3.0                 4.0                                  1   \n",
       "4                 3.0                 4.0                                  1   \n",
       "\n",
       "   encoded_loans_credit_status  encoded_loans_credit_type  \\\n",
       "0                            3                          4   \n",
       "1                            2                          3   \n",
       "2                            2                          4   \n",
       "3                            3                          4   \n",
       "4                            3                          3   \n",
       "\n",
       "   encoded_loans_account_currency  \n",
       "0                               1  \n",
       "1                               1  \n",
       "2                               1  \n",
       "3                               1  \n",
       "4                               1  \n",
       "\n",
       "[5 rows x 60 columns]"
      ]
     },
     "execution_count": 18,
     "metadata": {},
     "output_type": "execute_result"
    }
   ],
   "source": [
    "dataset_test.head()"
   ]
  },
  {
   "cell_type": "code",
   "execution_count": 19,
   "id": "f6bbbbb5-4130-4d07-9eb1-14544a2baf78",
   "metadata": {},
   "outputs": [
    {
     "data": {
      "text/html": [
       "<div>\n",
       "<style scoped>\n",
       "    .dataframe tbody tr th:only-of-type {\n",
       "        vertical-align: middle;\n",
       "    }\n",
       "\n",
       "    .dataframe tbody tr th {\n",
       "        vertical-align: top;\n",
       "    }\n",
       "\n",
       "    .dataframe thead th {\n",
       "        text-align: right;\n",
       "    }\n",
       "</style>\n",
       "<table border=\"1\" class=\"dataframe\">\n",
       "  <thead>\n",
       "    <tr style=\"text-align: right;\">\n",
       "      <th></th>\n",
       "      <th>record_number</th>\n",
       "      <th>days_since_opened</th>\n",
       "      <th>days_since_confirmed</th>\n",
       "      <th>primary_term</th>\n",
       "      <th>final_term</th>\n",
       "      <th>days_till_primary_close</th>\n",
       "      <th>days_till_final_close</th>\n",
       "      <th>loans_credit_limit</th>\n",
       "      <th>loans_next_payment_summary</th>\n",
       "      <th>loans_outstanding_balance</th>\n",
       "      <th>...</th>\n",
       "      <th>encoded_payment_2</th>\n",
       "      <th>encoded_payment_4</th>\n",
       "      <th>encoded_payment_5</th>\n",
       "      <th>encoded_payment_6</th>\n",
       "      <th>encoded_payment_7</th>\n",
       "      <th>encoded_payment_8</th>\n",
       "      <th>encoded_payment_14</th>\n",
       "      <th>encoded_loans_account_holder_type</th>\n",
       "      <th>encoded_loans_credit_status</th>\n",
       "      <th>encoded_loans_credit_type</th>\n",
       "    </tr>\n",
       "  </thead>\n",
       "  <tbody>\n",
       "    <tr>\n",
       "      <th>0</th>\n",
       "      <td>14</td>\n",
       "      <td>2</td>\n",
       "      <td>13</td>\n",
       "      <td>14</td>\n",
       "      <td>2</td>\n",
       "      <td>14</td>\n",
       "      <td>6</td>\n",
       "      <td>1</td>\n",
       "      <td>2</td>\n",
       "      <td>3</td>\n",
       "      <td>...</td>\n",
       "      <td>0.0</td>\n",
       "      <td>0.0</td>\n",
       "      <td>0.0</td>\n",
       "      <td>0.0</td>\n",
       "      <td>0.0</td>\n",
       "      <td>0.0</td>\n",
       "      <td>3.0</td>\n",
       "      <td>1</td>\n",
       "      <td>3</td>\n",
       "      <td>4</td>\n",
       "    </tr>\n",
       "    <tr>\n",
       "      <th>1</th>\n",
       "      <td>17</td>\n",
       "      <td>3</td>\n",
       "      <td>6</td>\n",
       "      <td>0</td>\n",
       "      <td>1</td>\n",
       "      <td>0</td>\n",
       "      <td>4</td>\n",
       "      <td>8</td>\n",
       "      <td>2</td>\n",
       "      <td>4</td>\n",
       "      <td>...</td>\n",
       "      <td>NaN</td>\n",
       "      <td>0.0</td>\n",
       "      <td>0.0</td>\n",
       "      <td>0.0</td>\n",
       "      <td>0.0</td>\n",
       "      <td>0.0</td>\n",
       "      <td>0.0</td>\n",
       "      <td>1</td>\n",
       "      <td>2</td>\n",
       "      <td>3</td>\n",
       "    </tr>\n",
       "    <tr>\n",
       "      <th>2</th>\n",
       "      <td>14</td>\n",
       "      <td>9</td>\n",
       "      <td>10</td>\n",
       "      <td>14</td>\n",
       "      <td>7</td>\n",
       "      <td>10</td>\n",
       "      <td>4</td>\n",
       "      <td>2</td>\n",
       "      <td>5</td>\n",
       "      <td>1</td>\n",
       "      <td>...</td>\n",
       "      <td>0.0</td>\n",
       "      <td>0.0</td>\n",
       "      <td>0.0</td>\n",
       "      <td>0.0</td>\n",
       "      <td>0.0</td>\n",
       "      <td>0.0</td>\n",
       "      <td>3.0</td>\n",
       "      <td>1</td>\n",
       "      <td>2</td>\n",
       "      <td>4</td>\n",
       "    </tr>\n",
       "    <tr>\n",
       "      <th>3</th>\n",
       "      <td>7</td>\n",
       "      <td>14</td>\n",
       "      <td>4</td>\n",
       "      <td>12</td>\n",
       "      <td>11</td>\n",
       "      <td>6</td>\n",
       "      <td>13</td>\n",
       "      <td>11</td>\n",
       "      <td>2</td>\n",
       "      <td>3</td>\n",
       "      <td>...</td>\n",
       "      <td>0.0</td>\n",
       "      <td>0.0</td>\n",
       "      <td>NaN</td>\n",
       "      <td>3.0</td>\n",
       "      <td>3.0</td>\n",
       "      <td>3.0</td>\n",
       "      <td>3.0</td>\n",
       "      <td>1</td>\n",
       "      <td>3</td>\n",
       "      <td>4</td>\n",
       "    </tr>\n",
       "    <tr>\n",
       "      <th>4</th>\n",
       "      <td>13</td>\n",
       "      <td>3</td>\n",
       "      <td>3</td>\n",
       "      <td>16</td>\n",
       "      <td>1</td>\n",
       "      <td>15</td>\n",
       "      <td>4</td>\n",
       "      <td>16</td>\n",
       "      <td>2</td>\n",
       "      <td>3</td>\n",
       "      <td>...</td>\n",
       "      <td>0.0</td>\n",
       "      <td>0.0</td>\n",
       "      <td>0.0</td>\n",
       "      <td>0.0</td>\n",
       "      <td>0.0</td>\n",
       "      <td>0.0</td>\n",
       "      <td>0.0</td>\n",
       "      <td>1</td>\n",
       "      <td>3</td>\n",
       "      <td>3</td>\n",
       "    </tr>\n",
       "  </tbody>\n",
       "</table>\n",
       "<p>5 rows × 25 columns</p>\n",
       "</div>"
      ],
      "text/plain": [
       "   record_number  days_since_opened  days_since_confirmed  primary_term  \\\n",
       "0             14                  2                    13            14   \n",
       "1             17                  3                     6             0   \n",
       "2             14                  9                    10            14   \n",
       "3              7                 14                     4            12   \n",
       "4             13                  3                     3            16   \n",
       "\n",
       "   final_term  days_till_primary_close  days_till_final_close  \\\n",
       "0           2                       14                      6   \n",
       "1           1                        0                      4   \n",
       "2           7                       10                      4   \n",
       "3          11                        6                     13   \n",
       "4           1                       15                      4   \n",
       "\n",
       "   loans_credit_limit  loans_next_payment_summary  loans_outstanding_balance  \\\n",
       "0                   1                           2                          3   \n",
       "1                   8                           2                          4   \n",
       "2                   2                           5                          1   \n",
       "3                  11                           2                          3   \n",
       "4                  16                           2                          3   \n",
       "\n",
       "   ...  encoded_payment_2  encoded_payment_4  encoded_payment_5  \\\n",
       "0  ...                0.0                0.0                0.0   \n",
       "1  ...                NaN                0.0                0.0   \n",
       "2  ...                0.0                0.0                0.0   \n",
       "3  ...                0.0                0.0                NaN   \n",
       "4  ...                0.0                0.0                0.0   \n",
       "\n",
       "   encoded_payment_6  encoded_payment_7  encoded_payment_8  \\\n",
       "0                0.0                0.0                0.0   \n",
       "1                0.0                0.0                0.0   \n",
       "2                0.0                0.0                0.0   \n",
       "3                3.0                3.0                3.0   \n",
       "4                0.0                0.0                0.0   \n",
       "\n",
       "   encoded_payment_14  encoded_loans_account_holder_type  \\\n",
       "0                 3.0                                  1   \n",
       "1                 0.0                                  1   \n",
       "2                 3.0                                  1   \n",
       "3                 3.0                                  1   \n",
       "4                 0.0                                  1   \n",
       "\n",
       "   encoded_loans_credit_status  encoded_loans_credit_type  \n",
       "0                            3                          4  \n",
       "1                            2                          3  \n",
       "2                            2                          4  \n",
       "3                            3                          4  \n",
       "4                            3                          3  \n",
       "\n",
       "[5 rows x 25 columns]"
      ]
     },
     "execution_count": 19,
     "metadata": {},
     "output_type": "execute_result"
    }
   ],
   "source": [
    "dataset_test_df.head()"
   ]
  },
  {
   "cell_type": "code",
   "execution_count": 20,
   "id": "177fe5bc-6181-44c3-bba0-ff47d9a45844",
   "metadata": {},
   "outputs": [
    {
     "data": {
      "text/plain": [
       "array([[14.,  2., 13., ...,  1.,  3.,  4.],\n",
       "       [17.,  3.,  6., ...,  1.,  2.,  3.],\n",
       "       [14.,  9., 10., ...,  1.,  2.,  4.],\n",
       "       ...,\n",
       "       [12.,  6., 13., ...,  1.,  3.,  4.],\n",
       "       [16.,  2., 16., ...,  1.,  2.,  3.],\n",
       "       [ 8., 10., 14., ...,  1.,  3.,  4.]])"
      ]
     },
     "execution_count": 20,
     "metadata": {},
     "output_type": "execute_result"
    }
   ],
   "source": [
    "X_test"
   ]
  },
  {
   "cell_type": "code",
   "execution_count": 21,
   "id": "a64682a8-75ae-4b2a-ad40-c4433fda2e87",
   "metadata": {},
   "outputs": [
    {
     "data": {
      "text/plain": [
       "25"
      ]
     },
     "execution_count": 21,
     "metadata": {},
     "output_type": "execute_result"
    }
   ],
   "source": [
    "len(X_test[0])"
   ]
  },
  {
   "cell_type": "markdown",
   "id": "12601dc1-4b90-48d2-af51-328954a9ef93",
   "metadata": {},
   "source": [
    "## Taking Care of missing values"
   ]
  },
  {
   "cell_type": "code",
   "execution_count": 22,
   "id": "1adb621d-5ffb-4b71-9692-288267d2a2a9",
   "metadata": {},
   "outputs": [],
   "source": [
    "from sklearn.impute import SimpleImputer\n",
    "imputer = SimpleImputer(missing_values = np.nan, strategy= 'median')\n",
    "imputer.fit(X_test[:, :])\n",
    "X_test[:, :] = imputer.transform(X_test[:, :])"
   ]
  },
  {
   "cell_type": "markdown",
   "id": "58064178-fbe1-47d5-80ed-e9fd76357141",
   "metadata": {},
   "source": [
    "## Predicting Y1 -> Primary Close Flag"
   ]
  },
  {
   "cell_type": "code",
   "execution_count": 23,
   "id": "65072ae7-25ce-47dd-8a2e-a2ff26d9c123",
   "metadata": {},
   "outputs": [],
   "source": [
    "y1_pred = classifierY1.predict(X_test)"
   ]
  },
  {
   "cell_type": "code",
   "execution_count": 24,
   "id": "6d0daa5c-6935-431f-9258-6afaeca9c772",
   "metadata": {},
   "outputs": [
    {
     "name": "stdout",
     "output_type": "stream",
     "text": [
      "[0 0 0 ... 0 0 0]\n"
     ]
    }
   ],
   "source": [
    "print(y1_pred)"
   ]
  },
  {
   "cell_type": "markdown",
   "id": "1b2dc4d5-9f30-46df-84e0-41f784c67c8f",
   "metadata": {},
   "source": [
    "## Predicting Y2 -> Final Close Flag"
   ]
  },
  {
   "cell_type": "code",
   "execution_count": 25,
   "id": "632fe9ec-9d91-4ea7-8e60-0a75c23e28e4",
   "metadata": {},
   "outputs": [],
   "source": [
    "y2_pred = classifierY2.predict(X_test)"
   ]
  },
  {
   "cell_type": "code",
   "execution_count": 26,
   "id": "9c26572a-f5ad-4d6a-aa36-fbe3c5d7f484",
   "metadata": {},
   "outputs": [
    {
     "name": "stdout",
     "output_type": "stream",
     "text": [
      "[0 0 0 ... 0 0 0]\n"
     ]
    }
   ],
   "source": [
    "print(y2_pred)"
   ]
  },
  {
   "cell_type": "code",
   "execution_count": 27,
   "id": "ce8b3741-148c-4f25-8688-f56fe32e74b3",
   "metadata": {},
   "outputs": [
    {
     "data": {
      "text/plain": [
       "474289"
      ]
     },
     "execution_count": 27,
     "metadata": {},
     "output_type": "execute_result"
    }
   ],
   "source": [
    "len(y2_pred)"
   ]
  },
  {
   "cell_type": "code",
   "execution_count": 28,
   "id": "3fca83e5-8767-4909-89b6-cc37b653cff4",
   "metadata": {},
   "outputs": [],
   "source": [
    "result_array = np.concatenate((y1_pred.reshape(len(y1_pred),1), y2_pred.reshape(len(y2_pred),1)),1)"
   ]
  },
  {
   "cell_type": "code",
   "execution_count": 29,
   "id": "58067dd2-03eb-4f65-962f-bbee11433867",
   "metadata": {},
   "outputs": [
    {
     "name": "stdout",
     "output_type": "stream",
     "text": [
      "[[0 0]\n",
      " [0 0]\n",
      " [0 0]\n",
      " ...\n",
      " [0 0]\n",
      " [0 0]\n",
      " [0 0]]\n"
     ]
    }
   ],
   "source": [
    "print(result_array)"
   ]
  },
  {
   "cell_type": "code",
   "execution_count": 30,
   "id": "ec1ee76c-a8a0-4a27-9222-c771cda3a90a",
   "metadata": {},
   "outputs": [
    {
     "name": "stdout",
     "output_type": "stream",
     "text": [
      "[[0 0]\n",
      " [0 0]\n",
      " [0 0]\n",
      " ...\n",
      " [0 0]\n",
      " [0 0]\n",
      " [0 0]]\n"
     ]
    }
   ],
   "source": [
    "print(result_array)"
   ]
  },
  {
   "cell_type": "code",
   "execution_count": 31,
   "id": "bad722bf-09f2-4741-8175-097d6f666092",
   "metadata": {},
   "outputs": [
    {
     "name": "stdout",
     "output_type": "stream",
     "text": [
      "474289\n"
     ]
    }
   ],
   "source": [
    "print(len(result_array))"
   ]
  },
  {
   "cell_type": "code",
   "execution_count": 32,
   "id": "92695179-b652-4527-be64-b83a884116af",
   "metadata": {},
   "outputs": [
    {
     "name": "stdout",
     "output_type": "stream",
     "text": [
      "[0 0]\n"
     ]
    }
   ],
   "source": [
    "print(result_array[474288])"
   ]
  },
  {
   "cell_type": "code",
   "execution_count": 33,
   "id": "8cf514af-b448-49b1-bc69-c0e827585074",
   "metadata": {},
   "outputs": [
    {
     "name": "stdout",
     "output_type": "stream",
     "text": [
      "[1 1]\n"
     ]
    }
   ],
   "source": [
    "print(result_array[19])"
   ]
  },
  {
   "cell_type": "code",
   "execution_count": 34,
   "id": "149112c3-7099-41e9-bd16-188736e1e2e1",
   "metadata": {},
   "outputs": [],
   "source": [
    "submission_df = pd.DataFrame(result_array)"
   ]
  },
  {
   "cell_type": "code",
   "execution_count": 35,
   "id": "7b9007f4-9162-4aa4-88c7-744297636006",
   "metadata": {},
   "outputs": [],
   "source": [
    "submission_df.to_csv('submission.csv',index=False )"
   ]
  }
 ],
 "metadata": {
  "kernelspec": {
   "display_name": "Python 3 (ipykernel)",
   "language": "python",
   "name": "python3"
  },
  "language_info": {
   "codemirror_mode": {
    "name": "ipython",
    "version": 3
   },
   "file_extension": ".py",
   "mimetype": "text/x-python",
   "name": "python",
   "nbconvert_exporter": "python",
   "pygments_lexer": "ipython3",
   "version": "3.11.4"
  }
 },
 "nbformat": 4,
 "nbformat_minor": 5
}
